{
 "cells": [
  {
   "cell_type": "markdown",
   "id": "2ac4695e",
   "metadata": {},
   "source": [
    "# A to Z star pattern"
   ]
  },
  {
   "cell_type": "code",
   "execution_count": 23,
   "id": "88aed246",
   "metadata": {},
   "outputs": [
    {
     "name": "stdout",
     "output_type": "stream",
     "text": [
      "    *    \n",
      "   * *   \n",
      "  *****  \n",
      " *     * \n",
      "*       *\n",
      "         \n",
      "         \n",
      "         \n",
      "         \n"
     ]
    }
   ],
   "source": [
    "b=6\n",
    "a=4\n",
    "for i in range (1,10):\n",
    "    a=a+1\n",
    "    b=b-1\n",
    "    for j in range(1,10):\n",
    "        \n",
    "        if j>3 and j<7 and i==3:\n",
    "            print(\"*\",end=\"\")\n",
    "        elif j==b or j==a:\n",
    "            print(\"*\",end=\"\")\n",
    "        else:\n",
    "            print(\" \",end=\"\")\n",
    "            \n",
    "    print()"
   ]
  },
  {
   "cell_type": "code",
   "execution_count": 43,
   "id": "2550489c",
   "metadata": {},
   "outputs": [
    {
     "name": "stdout",
     "output_type": "stream",
     "text": [
      "********\n",
      "*       *\n",
      "*       *\n",
      "*       *\n",
      "********\n",
      "*       *\n",
      "*       *\n",
      "*       *\n",
      "********\n"
     ]
    }
   ],
   "source": [
    "for i in range(1,10):\n",
    "    for j in range(1,10):\n",
    "        if i==1 and j==1:\n",
    "            print(\"\",end=\"\")\n",
    "        if j==1 or j==9:\n",
    "            print(\"*\",end=\"\")\n",
    "        elif i==1 or i==5 or i==9:\n",
    "            if j<8:\n",
    "                print(\"*\",end=\"\")\n",
    "        else:\n",
    "            print(\"\",end=\" \")\n",
    "    print()"
   ]
  },
  {
   "cell_type": "code",
   "execution_count": 67,
   "id": "87e2196a",
   "metadata": {},
   "outputs": [
    {
     "name": "stdout",
     "output_type": "stream",
     "text": [
      "********\n",
      "*      *\n",
      "*       \n",
      "*       \n",
      "*       \n",
      "*       \n",
      "*      *\n",
      "********\n"
     ]
    }
   ],
   "source": [
    "for i in range(1,9):\n",
    "    for j in range(1,9):\n",
    "        if j==1:\n",
    "            print(\"*\",end=\"\")\n",
    "        elif i==1 or i==8:\n",
    "                print(\"*\",end=\"\")\n",
    "        elif j==8 and i==2 or j==8 and i==7:\n",
    "            print(\"*\",end=\"\")\n",
    "        else:\n",
    "            print(\" \",end=\"\")\n",
    "    print()"
   ]
  },
  {
   "cell_type": "code",
   "execution_count": 42,
   "id": "40a9de83",
   "metadata": {},
   "outputs": [
    {
     "name": "stdout",
     "output_type": "stream",
     "text": [
      "*******\n",
      " *     *\n",
      " *     *\n",
      " *     *\n",
      " *     *\n",
      " *     *\n",
      " *     *\n",
      "*******\n"
     ]
    }
   ],
   "source": [
    "\n",
    "for i in range(1,9):\n",
    "    for j in range(1,9):\n",
    "        if i==1 or i==8:\n",
    "            if j<8:\n",
    "                print(\"*\",end=\"\")\n",
    "        elif j==2 or j==8:\n",
    "            print(\"*\",end=\"\")\n",
    "        else:\n",
    "            print(\" \",end=\"\")\n",
    "    print()\n",
    "        "
   ]
  },
  {
   "cell_type": "code",
   "execution_count": 68,
   "id": "f4510452",
   "metadata": {},
   "outputs": [
    {
     "name": "stdout",
     "output_type": "stream",
     "text": [
      "*********\n",
      "*\n",
      "*\n",
      "*\n",
      "*********\n",
      "*\n",
      "*\n",
      "*\n",
      "*********\n"
     ]
    }
   ],
   "source": [
    "# print l \n",
    "for i in range(1,10):\n",
    "    for j in range(1,10):\n",
    "        if j<2 and i<9:\n",
    "            print(\"*\",end=\"\")\n",
    "        elif i==1:\n",
    "            print(\"*\",end=\"\")\n",
    "        elif i==5:\n",
    "            print(\"*\",end=\"\")\n",
    "        elif i==9:\n",
    "            print(\"*\",end=\"\")\n",
    "        else:\n",
    "            print(\"\",end=\"\")\n",
    "    print()"
   ]
  },
  {
   "cell_type": "code",
   "execution_count": 69,
   "id": "5e119d6b",
   "metadata": {},
   "outputs": [
    {
     "name": "stdout",
     "output_type": "stream",
     "text": [
      "*********\n",
      "*        \n",
      "*        \n",
      "*        \n",
      "*********\n",
      "*        \n",
      "*        \n",
      "*        \n",
      "*        \n"
     ]
    }
   ],
   "source": [
    "for i in range(1,10):\n",
    "    for j in range(1,10):\n",
    "        if j<2 and i<=9:\n",
    "            print(\"*\",end=\"\")\n",
    "        elif i==1:\n",
    "            print(\"*\",end=\"\")\n",
    "        elif i==5:\n",
    "            print(\"*\",end=\"\")\n",
    "        else:\n",
    "            print(\"\",end=\" \")\n",
    "    print()"
   ]
  },
  {
   "cell_type": "code",
   "execution_count": 19,
   "id": "f750a83d",
   "metadata": {},
   "outputs": [
    {
     "name": "stdout",
     "output_type": "stream",
     "text": [
      "********\n",
      "*      *\n",
      "*       \n",
      "*       \n",
      "*       \n",
      "*   ****\n",
      "*   *  *\n",
      "*****  *\n"
     ]
    }
   ],
   "source": [
    "for i in range(1,9):\n",
    "    for j in range(1,9):\n",
    "        if j==1:\n",
    "            print(\"*\",end=\"\")\n",
    "        elif i==1 or i==8 and j<6:\n",
    "            print(\"*\",end=\"\")\n",
    "        elif j==8 and i==2 or j>4 and i==6:\n",
    "            print(\"*\",end=\"\")\n",
    "        elif j==5 and i==7:\n",
    "            print(\"*\",end=\"\")\n",
    "        elif j==8 and i>6:\n",
    "            print(\"*\",end=\"\")\n",
    "        else:\n",
    "            print(\" \",end=\"\")\n",
    "    print()\n",
    "        "
   ]
  },
  {
   "cell_type": "code",
   "execution_count": 72,
   "id": "0dae9e1c",
   "metadata": {},
   "outputs": [
    {
     "name": "stdout",
     "output_type": "stream",
     "text": [
      "*   *\n",
      "*   *\n",
      "*****\n",
      "*   *\n",
      "*   *\n"
     ]
    }
   ],
   "source": [
    "for i in range(1,6):\n",
    "    for j in range(1,6):\n",
    "        if j==1:\n",
    "            print(\"*\",end=\"\")\n",
    "        elif i==3:\n",
    "            print(\"*\",end=\"\")\n",
    "        elif j==5:\n",
    "            print(\"*\",end=\"\")\n",
    "        else:\n",
    "            print(\"\",end=\" \")\n",
    "    print()"
   ]
  },
  {
   "cell_type": "code",
   "execution_count": 18,
   "id": "ffd0ec16",
   "metadata": {},
   "outputs": [
    {
     "name": "stdout",
     "output_type": "stream",
     "text": [
      "*****\n",
      "  *  \n",
      "  *  \n",
      "  *  \n",
      "*****\n"
     ]
    }
   ],
   "source": [
    "for i in range(1,6):\n",
    "    for j in range(1,6):\n",
    "        if i==1:\n",
    "            print(\"*\",end=\"\")\n",
    "        elif i==5:\n",
    "            print(\"*\",end=\"\")\n",
    "        elif j==3:\n",
    "            print(\"*\",end=\"\")\n",
    "        else:\n",
    "            print(\"\",end=\" \")\n",
    "    print()"
   ]
  },
  {
   "cell_type": "code",
   "execution_count": 26,
   "id": "0fe74936",
   "metadata": {},
   "outputs": [
    {
     "name": "stdout",
     "output_type": "stream",
     "text": [
      "    *\n",
      "    *\n",
      "    *\n",
      "*   *\n",
      "*****\n"
     ]
    }
   ],
   "source": [
    "for i in range(1,6):\n",
    "    for j in range(1,6):\n",
    "        if j==5:\n",
    "            print(\"*\",end=\"\")\n",
    "        elif i==5:\n",
    "            print(\"*\",end=\"\")\n",
    "        elif j==1 and i>3:\n",
    "            print(\"*\",end=\"\")\n",
    "        else:\n",
    "            print(end=\" \")\n",
    "    print()"
   ]
  },
  {
   "cell_type": "code",
   "execution_count": 30,
   "id": "8cf9c950",
   "metadata": {},
   "outputs": [
    {
     "name": "stdout",
     "output_type": "stream",
     "text": [
      "*    *    \n",
      "*   *     \n",
      "*  *      \n",
      "* *       \n",
      "**        \n",
      "*  *      \n",
      "*   *     \n",
      "*    *    \n",
      "*     *   \n"
     ]
    }
   ],
   "source": [
    "a=0\n",
    "b=-2\n",
    "for i in range (1,10):\n",
    "    a=a-1\n",
    "    b=b+1\n",
    "    for j in range(1,10):\n",
    "        if j==1:\n",
    "            print(\"*\",end=\"\")\n",
    "        elif j==7+a and i<6:\n",
    "            print(\"*\",end=\"\")\n",
    "        elif i>5 and j==b:\n",
    "            print(\"*\",end=\"\")\n",
    "        else:\n",
    "            print(\" \",end=\"\")\n",
    "    print()"
   ]
  },
  {
   "cell_type": "code",
   "execution_count": 27,
   "id": "f063573b",
   "metadata": {},
   "outputs": [
    {
     "name": "stdout",
     "output_type": "stream",
     "text": [
      "*\n",
      "*\n",
      "*\n",
      "*\n",
      "* * * * * \n"
     ]
    }
   ],
   "source": [
    "#print E\n",
    "for i in range(1,6):\n",
    "    for j in range(1,6):\n",
    "        if j<2 and i<5:\n",
    "            print(\"*\",end=\"\")\n",
    "        elif i==5:\n",
    "            print(\"*\",end=\" \")\n",
    "        else:\n",
    "            print(\"\",end=\"\")\n",
    "    print()"
   ]
  },
  {
   "cell_type": "code",
   "execution_count": 6,
   "id": "5beff017",
   "metadata": {},
   "outputs": [
    {
     "name": "stdout",
     "output_type": "stream",
     "text": [
      "*               * \n",
      "* *           * * \n",
      "*   *       *   * \n",
      "*     *   *     * \n",
      "*       *       * \n",
      "*               * \n",
      "*               * \n",
      "*               * \n",
      "*               * \n"
     ]
    }
   ],
   "source": [
    "b=0\n",
    "a=0\n",
    "for i in range(1,10):\n",
    "    a=a-1\n",
    "    b=b+1\n",
    "    for j in range(1,10):\n",
    "        if j==1 or j==9:\n",
    "            print(\"*\",end=\"\")\n",
    "        elif (j==b and i<6) or (j==10+a and i<5):\n",
    "            print(\"*\",end=\"\")\n",
    "        else:\n",
    "            print(\" \",end=\"\")\n",
    "    print()"
   ]
  },
  {
   "cell_type": "code",
   "execution_count": 31,
   "id": "bcdb6458",
   "metadata": {},
   "outputs": [
    {
     "name": "stdout",
     "output_type": "stream",
     "text": [
      "*       *\n",
      "**      *\n",
      "* *     *\n",
      "*  *    *\n",
      "*   *   *\n",
      "*    *  *\n",
      "*     * *\n",
      "*      **\n",
      "*       *\n"
     ]
    }
   ],
   "source": [
    "for i in range(1,10):\n",
    "    for j in range(1,10):\n",
    "        if j==1 or j==9:\n",
    "            print(\"*\",end=\"\")\n",
    "        elif j==i:\n",
    "            print(\"*\",end=\"\")\n",
    "        else:\n",
    "            print(\" \",end=\"\")\n",
    "    print()"
   ]
  },
  {
   "cell_type": "code",
   "execution_count": 23,
   "id": "db94aab5",
   "metadata": {
    "scrolled": false
   },
   "outputs": [
    {
     "name": "stdout",
     "output_type": "stream",
     "text": [
      "  * * * * *     \n",
      "*            *\n",
      "*            *\n",
      "*            *\n",
      "*            *\n",
      "*            *\n",
      "*            *\n",
      "  * * * * *     \n"
     ]
    }
   ],
   "source": [
    "for i in range (1,9):\n",
    "    for j in range(1,9):\n",
    "        if (j>1 and j<7) and (i==1 or i==8):\n",
    "            print(\"*\",end=\" \")\n",
    "        elif (i>1 and i<8 )and (j==1 or j==8) :\n",
    "            print(\"*\",end=\"\")\n",
    "        else:\n",
    "            print(\" \",end=\" \")\n",
    "    print()"
   ]
  },
  {
   "cell_type": "code",
   "execution_count": 36,
   "id": "cfab9975",
   "metadata": {},
   "outputs": [
    {
     "name": "stdout",
     "output_type": "stream",
     "text": [
      " * * * *     \n",
      "*        * \n",
      "*        * \n",
      "*        * \n",
      "* * * * *     \n",
      "*         \n",
      "*         \n",
      "*         \n",
      "*         \n"
     ]
    }
   ],
   "source": [
    "for i in range (1,10):\n",
    "    for j in range(1,10):\n",
    "        if (j>1 and j<6) and i==1:\n",
    "            print(\"*\",end=\" \")\n",
    "        elif (j==1 and i>1) or (j==9 and (i>1 and i<5)) or i==5 and j<6 :\n",
    "            print(\"*\",end=\" \")\n",
    "        else:\n",
    "            print(\" \",end=\"\")\n",
    "    print()"
   ]
  },
  {
   "cell_type": "code",
   "execution_count": 32,
   "id": "384d1c64",
   "metadata": {},
   "outputs": [
    {
     "name": "stdout",
     "output_type": "stream",
     "text": [
      "  * * * * *     \n",
      "*            *\n",
      "*            *\n",
      "*            *\n",
      "*            *\n",
      "*            *\n",
      "*          **\n",
      "  * * * * *   *\n"
     ]
    }
   ],
   "source": [
    "for i in range (1,9):\n",
    "    for j in range(1,9):\n",
    "        if (j>1 and j<7) and (i==1 or i==8):\n",
    "            print(\"*\",end=\" \")\n",
    "        elif (i>1 and i<8 )and (j==1 or j==8) :\n",
    "            print(\"*\",end=\"\")\n",
    "        elif j>6 and j==i:\n",
    "            print(\"*\",end=\"\")\n",
    "        else:\n",
    "            print(\" \",end=\" \")\n",
    "    print()"
   ]
  },
  {
   "cell_type": "code",
   "execution_count": 46,
   "id": "8c7cb8d4",
   "metadata": {},
   "outputs": [
    {
     "name": "stdout",
     "output_type": "stream",
     "text": [
      " * * * *     \n",
      "*        * \n",
      "*        * \n",
      "*        * \n",
      "* * * * *     \n",
      "*     *   \n",
      "*      *  \n",
      "*       * \n",
      "*        *\n"
     ]
    }
   ],
   "source": [
    "a=0\n",
    "for i in range (1,10):\n",
    "    a=a+1\n",
    "    for j in range(1,10):\n",
    "        if (j>1 and j<6) and i==1:\n",
    "            print(\"*\",end=\" \")\n",
    "        elif (j==1 and i>1) or (j==9 and (i>1 and i<5)) or i==5 and j<6 :\n",
    "            print(\"*\",end=\" \")\n",
    "        elif j==a and i>5:\n",
    "            print(\"*\",end=\"\")\n",
    "        else:\n",
    "            print(\" \",end=\"\")\n",
    "    print()"
   ]
  },
  {
   "cell_type": "code",
   "execution_count": 61,
   "id": "d995742f",
   "metadata": {},
   "outputs": [
    {
     "name": "stdout",
     "output_type": "stream",
     "text": [
      " ******* \n",
      "*         \n",
      "*         \n",
      "*         \n",
      " ******* \n",
      "        * \n",
      "        * \n",
      "        * \n",
      " ******* \n"
     ]
    }
   ],
   "source": [
    "for i in range(1,10):\n",
    "    for j in range(1,10):\n",
    "        if (j==9 and (i>5 and i<9)) or j==1 and (i>1 and i<5):\n",
    "            print(\"*\",end=\"\")\n",
    "        if (j>1 and j<9) and (i==1 or i==5 or i==9):\n",
    "            print(\"*\",end=\"\")\n",
    "        else:\n",
    "            print(\" \",end=\"\")\n",
    "    print()"
   ]
  },
  {
   "cell_type": "code",
   "execution_count": 50,
   "id": "2728e13f",
   "metadata": {},
   "outputs": [
    {
     "name": "stdout",
     "output_type": "stream",
     "text": [
      "* * * * * * * * * \n",
      "        *        \n",
      "        *        \n",
      "        *        \n",
      "        *        \n",
      "        *        \n",
      "        *        \n",
      "        *        \n",
      "        *        \n"
     ]
    }
   ],
   "source": [
    "for i in range(1,10):\n",
    "    for j in range(1,10):\n",
    "        if i==1:\n",
    "            print(\"*\",end=\" \")\n",
    "        elif j==5:\n",
    "            print(\"*\",end=\"\")\n",
    "        else:\n",
    "            print(\" \",end=\" \")\n",
    "    print()"
   ]
  },
  {
   "cell_type": "code",
   "execution_count": 25,
   "id": "d37b601c",
   "metadata": {},
   "outputs": [
    {
     "name": "stdout",
     "output_type": "stream",
     "text": [
      "*              *\n",
      "*              *\n",
      "*              *\n",
      "*              *\n",
      "*              *\n",
      "*              *\n",
      "*              *\n",
      "*              *\n",
      "  * * * * * *     \n"
     ]
    }
   ],
   "source": [
    "for i in range (1,10):\n",
    "    for j in range(1,10):\n",
    "        if (j==1 or j==9) and i<9:\n",
    "            print(\"*\",end=\"\")\n",
    "        elif  (j>1 and j<8)and i==9:\n",
    "            print(\"*\",end=\" \")\n",
    "        else:\n",
    "            print(\" \",end=\" \")\n",
    "    print()"
   ]
  },
  {
   "cell_type": "code",
   "execution_count": 56,
   "id": "c9af6060",
   "metadata": {},
   "outputs": [
    {
     "name": "stdout",
     "output_type": "stream",
     "text": [
      "*        * \n",
      " *      *  \n",
      "  *    *   \n",
      "   *  *    \n",
      "    *     \n",
      "         \n",
      "         \n",
      "         \n",
      "         \n"
     ]
    }
   ],
   "source": [
    "a=0\n",
    "b=0\n",
    "for i in range(1,10):\n",
    "    a=a+1\n",
    "    b=b-1\n",
    "    for j in range(1,10):\n",
    "        if (j==a or j==10+b) and i<6:\n",
    "            print(\"*\",end=\" \")\n",
    "        else:\n",
    "            print(end=\" \")\n",
    "    print()"
   ]
  },
  {
   "cell_type": "code",
   "execution_count": 85,
   "id": "553bf099",
   "metadata": {},
   "outputs": [
    {
     "name": "stdout",
     "output_type": "stream",
     "text": [
      "*               * \n",
      "*               * \n",
      "*               * \n",
      "*               * \n",
      "*       *       * \n",
      "*     *   *     * \n",
      "*   *       *   * \n",
      "* *           * * \n",
      "*               * \n"
     ]
    }
   ],
   "source": [
    "a=0\n",
    "b=0\n",
    "for i in range(1,10):\n",
    "    a=a+1\n",
    "    b=b-1\n",
    "    for j in range(1,10):\n",
    "        if j==1 or j==9:\n",
    "            print(\"*\",end=\" \")\n",
    "        elif (j==a and i>4) or (j==10+b and i>4):\n",
    "            print(\"*\",end=\" \")\n",
    "        else:\n",
    "            print(\" \",end=\" \")\n",
    "    print()\n",
    "        "
   ]
  },
  {
   "cell_type": "code",
   "execution_count": 27,
   "id": "5ea58f88",
   "metadata": {},
   "outputs": [
    {
     "name": "stdout",
     "output_type": "stream",
     "text": [
      "*              *\n",
      "  *          *  \n",
      "    *      *    \n",
      "      *  *      \n",
      "        *        \n",
      "      *  *      \n",
      "    *      *    \n",
      "  *          *  \n",
      "*              *\n"
     ]
    }
   ],
   "source": [
    "a=0\n",
    "b=0\n",
    "for i in range(1,10):\n",
    "    a=a+1\n",
    "    b=b-1\n",
    "    for j in range(1,10):\n",
    "        if j==a or j==10+b:\n",
    "            print(\"*\",end=\"\")\n",
    "        else:\n",
    "            print(\" \",end=\" \")\n",
    "    print()\n",
    "        "
   ]
  },
  {
   "cell_type": "code",
   "execution_count": 47,
   "id": "6f6feb31",
   "metadata": {},
   "outputs": [
    {
     "name": "stdout",
     "output_type": "stream",
     "text": [
      "*        * \n",
      " *      *  \n",
      "  *    *   \n",
      "   *  *    \n",
      "    *     \n",
      "    *    \n",
      "    *    \n",
      "    *    \n",
      "    *    \n"
     ]
    }
   ],
   "source": [
    "a=0\n",
    "b=0\n",
    "for i in range(1,10):\n",
    "    a=a+1\n",
    "    b=b-1\n",
    "    for j in range(1,10):\n",
    "        if (j==a or j==10+b) and i<6:\n",
    "            print(\"*\",end=\" \")\n",
    "        elif j==5 and i>5:\n",
    "            print(\"*\",end=\"\")\n",
    "        else:\n",
    "            print(end=\" \")\n",
    "    print()"
   ]
  },
  {
   "cell_type": "code",
   "execution_count": 53,
   "id": "58455ba7",
   "metadata": {},
   "outputs": [
    {
     "name": "stdout",
     "output_type": "stream",
     "text": [
      "* * * * * * * * * \n",
      "              *  \n",
      "            *    \n",
      "          *      \n",
      "        *        \n",
      "      *          \n",
      "    *            \n",
      "  *              \n",
      "* * * * * * * * * \n"
     ]
    }
   ],
   "source": [
    "a=0\n",
    "for i in range(1,10):\n",
    "    a=a-1\n",
    "    for j in range(1,10):\n",
    "        if i==1 or i==9:\n",
    "            print(\"*\",end=\" \")\n",
    "        elif j==10+a:\n",
    "            print(\"*\",end=\"\")\n",
    "        else:\n",
    "            print(\" \",end=\" \")\n",
    "    print()"
   ]
  }
 ],
 "metadata": {
  "kernelspec": {
   "display_name": "Python 3 (ipykernel)",
   "language": "python",
   "name": "python3"
  },
  "language_info": {
   "codemirror_mode": {
    "name": "ipython",
    "version": 3
   },
   "file_extension": ".py",
   "mimetype": "text/x-python",
   "name": "python",
   "nbconvert_exporter": "python",
   "pygments_lexer": "ipython3",
   "version": "3.11.1"
  }
 },
 "nbformat": 4,
 "nbformat_minor": 5
}
